{
  "nbformat": 4,
  "nbformat_minor": 0,
  "metadata": {
    "colab": {
      "provenance": [],
      "toc_visible": true,
      "authorship_tag": "ABX9TyMDZ54hzapEwZ1bvuHixHkx",
      "include_colab_link": true
    },
    "kernelspec": {
      "name": "python3",
      "display_name": "Python 3"
    },
    "language_info": {
      "name": "python"
    }
  },
  "cells": [
    {
      "cell_type": "markdown",
      "metadata": {
        "id": "view-in-github",
        "colab_type": "text"
      },
      "source": [
        "<a href=\"https://colab.research.google.com/github/weltk234/Dio-projecs-certifications-102/blob/main/Untitled0.ipynb\" target=\"_parent\"><img src=\"https://colab.research.google.com/assets/colab-badge.svg\" alt=\"Open In Colab\"/></a>"
      ]
    },
    {
      "cell_type": "code",
      "execution_count": 2,
      "metadata": {
        "colab": {
          "base_uri": "https://localhost:8080/"
        },
        "id": "JIeGOXnKoXSB",
        "outputId": "89f6a9da-170b-40b6-82c5-f01b9767b1c7"
      },
      "outputs": [
        {
          "output_type": "stream",
          "name": "stdout",
          "text": [
            "Requirement already satisfied: requests in /usr/local/lib/python3.10/dist-packages (2.32.3)\n",
            "Collecting python-docx\n",
            "  Downloading python_docx-1.1.2-py3-none-any.whl.metadata (2.0 kB)\n",
            "Requirement already satisfied: charset-normalizer<4,>=2 in /usr/local/lib/python3.10/dist-packages (from requests) (3.4.0)\n",
            "Requirement already satisfied: idna<4,>=2.5 in /usr/local/lib/python3.10/dist-packages (from requests) (3.10)\n",
            "Requirement already satisfied: urllib3<3,>=1.21.1 in /usr/local/lib/python3.10/dist-packages (from requests) (2.2.3)\n",
            "Requirement already satisfied: certifi>=2017.4.17 in /usr/local/lib/python3.10/dist-packages (from requests) (2024.8.30)\n",
            "Requirement already satisfied: lxml>=3.1.0 in /usr/local/lib/python3.10/dist-packages (from python-docx) (5.3.0)\n",
            "Requirement already satisfied: typing-extensions>=4.9.0 in /usr/local/lib/python3.10/dist-packages (from python-docx) (4.12.2)\n",
            "Downloading python_docx-1.1.2-py3-none-any.whl (244 kB)\n",
            "\u001b[2K   \u001b[90m━━━━━━━━━━━━━━━━━━━━━━━━━━━━━━━━━━━━━━━━\u001b[0m \u001b[32m244.3/244.3 kB\u001b[0m \u001b[31m4.9 MB/s\u001b[0m eta \u001b[36m0:00:00\u001b[0m\n",
            "\u001b[?25hInstalling collected packages: python-docx\n",
            "Successfully installed python-docx-1.1.2\n"
          ]
        }
      ],
      "source": [
        "!pip install requests python-docx"
      ]
    },
    {
      "cell_type": "code",
      "source": [],
      "metadata": {
        "id": "6GNJJ8y-rByp"
      },
      "execution_count": null,
      "outputs": []
    },
    {
      "cell_type": "code",
      "source": [
        "import requests\n",
        "from docx import Document\n",
        "import os\n",
        "\n",
        "\n",
        "key = \"DgyghTDeWqNsjxArflKbO8k8vRMO5aCSjN60Sknl1Xhl5PGosiEPJQQJ99AKACHYHv6XJ3w3AAAbACOGbAuX\"\n",
        "endpoint = \"https://api.cognitive.microsofttranslator.com\"\n",
        "\n",
        "\n",
        "# location, also known as region.\n",
        "# required if you're using a multi-service or regional (not global) resource. It can be found in the Azure portal on the Keys and Endpoint page.\n",
        "location = \"eastus2\"\n",
        "target_lenguage = 'pt-br'\n",
        "\n",
        "def translator_text (text, target_lenguage):\n",
        "path = '/translate'\n",
        "constructed_url = endpoint + path\n",
        "headers = {\n",
        "    'Ocp-Apim-Subscription-Key': key,\n",
        "    'Ocp-Apim-Subscription-Region': location,\n",
        "    'Content-type': 'application/json',\n",
        "    'X-ClientTraceId': str(os.urandom(16))\n",
        "}\n",
        "\n",
        "\n",
        "body = [{\n",
        "    'text': text\n",
        "}]\n",
        "\n",
        "params = {\n",
        "    'api-version': '3.0',\n",
        "    'from': 'en',\n",
        "    'to': target_lenguage\n",
        "}\n",
        "\n",
        "requests = requests.post(constructed_url, headers=headers, json=body)\n",
        "response = requests.json()\n",
        "return response[0][\"translations\"][0][\"text\"]\n",
        "\n",
        "\n",
        "\n",
        "\n"
      ],
      "metadata": {
        "colab": {
          "base_uri": "https://localhost:8080/",
          "height": 110
        },
        "id": "DTrTgE6sp5BW",
        "outputId": "d2be97bf-e917-46a7-f3a5-bb0e5d185fd5"
      },
      "execution_count": 4,
      "outputs": [
        {
          "output_type": "error",
          "ename": "IndentationError",
          "evalue": "expected an indented block after function definition on line 15 (<ipython-input-4-b6090415f0b5>, line 16)",
          "traceback": [
            "\u001b[0;36m  File \u001b[0;32m\"<ipython-input-4-b6090415f0b5>\"\u001b[0;36m, line \u001b[0;32m16\u001b[0m\n\u001b[0;31m    path = '/translate'\u001b[0m\n\u001b[0m    ^\u001b[0m\n\u001b[0;31mIndentationError\u001b[0m\u001b[0;31m:\u001b[0m expected an indented block after function definition on line 15\n"
          ]
        }
      ]
    },
    {
      "source": [
        "import requests\n",
        "from docx import Document\n",
        "import os\n",
        "\n",
        "\n",
        "key = \"DgyghTDeWqNsjxArflKbO8k8vRMO5aCSjN60Sknl1Xhl5PGosiEPJQQJ99AKACHYHv6XJ3w3AAAbACOGbAuX\"\n",
        "endpoint = \"https://api.cognitive.microsofttranslator.com\"\n",
        "\n",
        "\n",
        "# location, also known as region.\n",
        "# required if you're using a multi-service or regional (not global) resource. It can be found in the Azure portal on the Keys and Endpoint page.\n",
        "# TODO: Replace with your actual location.\n",
        "location = \"eastus2\"\n",
        "target_lenguage = 'pt-br'\n",
        "\n",
        "def translator_text (text, target_lenguage):\n",
        "    # Indent all lines within the function body\n",
        "    path = '/translate'\n",
        "    constructed_url = endpoint + path\n",
        "    headers = {\n",
        "        'Ocp-Apim-Subscription-Key': key,\n",
        "        'Ocp-Apim-Subscription-Region': location,\n",
        "        'Content-type': 'application/json',\n",
        "        'X-ClientTraceId': str(os.urandom(16))\n",
        "    }\n",
        "\n",
        "\n",
        "    body = [{\n",
        "        'text': text\n",
        "    }]\n",
        "\n",
        "    params = {\n",
        "        'api-version': '3.0',\n",
        "        'from': 'en',\n",
        "        'to': target_lenguage\n",
        "    }\n",
        "\n",
        "    requests_post = requests.post(constructed_url,params=params, headers=headers, json=body) # Changed variable name to requests_post to avoid shadowing module name\n",
        "    response = requests_post.json()\n",
        "    return response[0][\"translations\"][0][\"text\"]"
      ],
      "cell_type": "code",
      "metadata": {
        "id": "qzfwcpwIvLgK"
      },
      "execution_count": 11,
      "outputs": []
    },
    {
      "cell_type": "markdown",
      "source": [],
      "metadata": {
        "id": "3FUFOK-pwukE"
      }
    },
    {
      "cell_type": "code",
      "source": [
        "translator_text(\"I know you're somewhere out there, somewhere far away\", target_lenguage)"
      ],
      "metadata": {
        "colab": {
          "base_uri": "https://localhost:8080/",
          "height": 36
        },
        "id": "i8n6wnFfvOZQ",
        "outputId": "6c260ff6-e659-4cbd-d85d-fe3569b02ca3"
      },
      "execution_count": 12,
      "outputs": [
        {
          "output_type": "execute_result",
          "data": {
            "text/plain": [
              "'Eu sei que você está em algum lugar lá fora, em algum lugar distante'"
            ],
            "application/vnd.google.colaboratory.intrinsic+json": {
              "type": "string"
            }
          },
          "metadata": {},
          "execution_count": 12
        }
      ]
    },
    {
      "source": [
        "def translate_document(path):\n",
        "    document = Document(path)\n",
        "    full_text = []\n",
        "    for paragraph in document.paragraphs:\n",
        "        # Indented this line to be part of the for loop\n",
        "        translated_text = translator_text(paragraph.text, target_lenguage)\n",
        "        full_text.append(translated_text)\n",
        "\n",
        "    trasnlated_doc = Document()\n",
        "    for line in full_text:\n",
        "        trasnlated_doc.add_paragraph(line) # Corrected to add_paragraph\n",
        "    path_translated = path.replace('.docx', '_translated.docx')\n",
        "    trasnlated_doc.save(path_translated)\n",
        "    return path_translated # Moved outside loop to return after all processing"
      ],
      "cell_type": "code",
      "metadata": {
        "id": "uwz29vTa15wW"
      },
      "execution_count": 20,
      "outputs": []
    },
    {
      "cell_type": "code",
      "source": [
        "input_file = \"/content/Musica.docx\"\n",
        "translate_document(input_file)"
      ],
      "metadata": {
        "colab": {
          "base_uri": "https://localhost:8080/",
          "height": 36
        },
        "id": "ncMBWVSCzy4g",
        "outputId": "23d79646-8771-48e9-8fc0-e3732ac3736c"
      },
      "execution_count": 21,
      "outputs": [
        {
          "output_type": "execute_result",
          "data": {
            "text/plain": [
              "'/content/Musica_translated.docx'"
            ],
            "application/vnd.google.colaboratory.intrinsic+json": {
              "type": "string"
            }
          },
          "metadata": {},
          "execution_count": 21
        }
      ]
    },
    {
      "cell_type": "markdown",
      "source": [
        "# Nova seção"
      ],
      "metadata": {
        "id": "RXUTVGk542yl"
      }
    }
  ]
}